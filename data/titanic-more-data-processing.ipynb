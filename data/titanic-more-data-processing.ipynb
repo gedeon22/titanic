{
 "cells": [
  {
   "cell_type": "code",
   "execution_count": 12,
   "metadata": {
    "_cell_guid": "b1076dfc-b9ad-4769-8c92-a6c4dae69d19",
    "_uuid": "8f2839f25d086af736a60e9eeb907d3b93b6e0e5"
   },
   "outputs": [],
   "source": [
    "import numpy as np # linear algebra\n",
    "import pandas as pd # data processing, CSV file I/O (e.g. pd.read_csv)\n",
    "import matplotlib.pyplot as plt\n",
    "import seaborn as sns"
   ]
  },
  {
   "cell_type": "code",
   "execution_count": 13,
   "metadata": {
    "_cell_guid": "79c7e3d0-c299-4dcb-8224-4455121ee9b0",
    "_uuid": "d629ff2d2480ee46fbb7e2d37f6b5fab8052498a"
   },
   "outputs": [],
   "source": [
    "#Training set seulement\n",
    "df = pd.read_csv('train.csv')\n",
    "df.drop(['PassengerId','Ticket'], axis=1, inplace=True)\n",
    "df.Age.fillna(df.Age.median(),inplace=True)"
   ]
  },
  {
   "cell_type": "code",
   "execution_count": 14,
   "metadata": {
    "_uuid": "24673630429d2684357d8866ea2817c31d7aded4",
    "scrolled": true
   },
   "outputs": [],
   "source": [
    "split = df.Name.str.split(' ',expand=True)"
   ]
  },
  {
   "cell_type": "code",
   "execution_count": 15,
   "metadata": {
    "_uuid": "d0ce83a0889621487923d97c1665177381243c84"
   },
   "outputs": [],
   "source": [
    "Title = pd.DataFrame(index=range(len(df)),columns=['Title'])\n",
    "\n",
    "for i in range(len(df)):\n",
    "    if ',' in split.iloc[i,1]:\n",
    "        Title.iloc[i,0]= split.iloc[i,2]\n",
    "    else:\n",
    "        Title.iloc[i,0]= split.iloc[i,1]\n",
    "\n",
    "df_exp = df.join(Title)\n",
    "df_exp.drop(['Name'],axis=1, inplace=True)"
   ]
  },
  {
   "cell_type": "code",
   "execution_count": 16,
   "metadata": {
    "_uuid": "177e979cf9999edf49bbf920d0e2b718e16d550b"
   },
   "outputs": [
    {
     "data": {
      "text/plain": [
       "<matplotlib.axes._subplots.AxesSubplot at 0x7f3f67529748>"
      ]
     },
     "execution_count": 16,
     "metadata": {},
     "output_type": "execute_result"
    },
    {
     "data": {
      "image/png": "[encoded data removed]",
      "text/plain": [
       "<Figure size 720x360 with 1 Axes>"
      ]
     },
     "metadata": {},
     "output_type": "display_data"
    }
   ],
   "source": [
    "df_exp.groupby('Title')['Survived'].mean().sort_values(ascending=False).plot(kind='bar', figsize=(10,5))"
   ]
  },
  {
   "cell_type": "code",
   "execution_count": 17,
   "metadata": {
    "_uuid": "adabef024c062aa03e8b26e162596454fcbb0d8c",
    "scrolled": true
   },
   "outputs": [],
   "source": [
    "df_exp['Sex'] = df_exp['Sex'].map({'male':0,'female':1}).astype(int)\n",
    "EmDum = pd.get_dummies(df_exp.Embarked, prefix='Embarked')\n",
    "EmDum.drop('Embarked_C', axis=1, inplace=True)\n",
    "df_exp = df_exp.join(EmDum)\n",
    "df_exp.drop('Embarked',axis=1, inplace=True)"
   ]
  },
  {
   "cell_type": "code",
   "execution_count": 18,
   "metadata": {
    "_uuid": "46c06425b3cc91b338b53816d404dadd16f41f76"
   },
   "outputs": [],
   "source": [
    "TiDum = pd.get_dummies(df_exp.Title, prefix='Title')\n",
    "TiDum.drop(['Title_y','Title_Jonkheer.','Title_der','Title_the'],axis=1,inplace=True)\n",
    "df_exp = df_exp.join(TiDum)\n",
    "df_exp = df_exp.drop(['Title'],axis=1)"
   ]
  },
  {
   "cell_type": "code",
   "execution_count": 19,
   "metadata": {
    "_uuid": "ae8d73c7370e771ccd3aba412dfa840e2e43cf13",
    "scrolled": true
   },
   "outputs": [],
   "source": [
    "CabLet = df_exp.Cabin.str[0]\n",
    "CabLet.fillna('O', inplace=True)\n",
    "CabLet = pd.get_dummies(CabLet, prefix='Deck')\n",
    "CabLet.drop('Deck_O', axis=1, inplace=True)\n",
    "df_exp = df_exp.join(CabLet)\n",
    "df_exp.drop('Cabin',axis=1, inplace=True)\n",
    "\n",
    "df_exp.to_csv('Titanic_training_set.csv')"
   ]
  },
  {
   "cell_type": "code",
   "execution_count": 20,
   "metadata": {
    "_uuid": "25128824d5c9875d82b7ed8581ad6aa0db2f5ba6"
   },
   "outputs": [],
   "source": [
    "#Maintenant le test set... same thing\n",
    "dfTest = pd.read_csv('test.csv')\n",
    "dfTest.drop(['PassengerId','Ticket'], axis=1, inplace=True)\n",
    "dfTest.Age.fillna(df_exp.Age.median(),inplace=True)\n",
    "\n",
    "splitTest = dfTest.Name.str.split(' ',expand=True)\n",
    "\n",
    "TitleTest = pd.DataFrame(index=range(len(dfTest)),columns=['Title'])\n",
    "\n",
    "for i in range(len(dfTest)):\n",
    "    if ',' in splitTest.iloc[i,1]:\n",
    "        TitleTest.iloc[i,0]= splitTest.iloc[i,2]\n",
    "    else:\n",
    "        TitleTest.iloc[i,0]= splitTest.iloc[i,1]\n",
    "\n",
    "df_expTest = dfTest.join(Title)\n",
    "df_expTest.drop(['Name'],axis=1, inplace=True)\n",
    "\n",
    "df_expTest['Sex'] = df_expTest['Sex'].map({'male':0,'female':1}).astype(int)\n",
    "EmDumTest = pd.get_dummies(df_expTest.Embarked, prefix='Embarked')\n",
    "EmDumTest.drop('Embarked_C', axis=1, inplace=True)\n",
    "df_expTest = df_expTest.join(EmDumTest)\n",
    "df_expTest.drop('Embarked',axis=1, inplace=True)\n",
    "\n",
    "TiDumTest = pd.get_dummies(df_expTest.Title, prefix='Title')\n",
    "TiDumTest.drop(['Title_y','Title_der'],axis=1,inplace=True)\n",
    "df_expTest = df_expTest.join(TiDumTest)\n",
    "df_expTest = df_expTest.drop(['Title'],axis=1)\n",
    "\n",
    "CabLetTest = df_expTest.Cabin.str[0]\n",
    "CabLetTest.fillna('O', inplace=True)\n",
    "CabLetTest = pd.get_dummies(CabLetTest, prefix='Deck')\n",
    "CabLetTest.drop('Deck_O', axis=1, inplace=True)\n",
    "df_expTest = df_expTest.join(CabLetTest)\n",
    "df_expTest.drop('Cabin',axis=1, inplace=True)\n",
    "\n",
    "df_expTest.Fare.fillna(df_expTest.Fare.median(),inplace=True)\n",
    "\n",
    "df_expTest.to_csv('Titanic_test_set.csv')"
   ]
  },
  {
   "cell_type": "code",
   "execution_count": null,
   "metadata": {
    "_uuid": "bc74e733a6134752601e231e50a5cdbe70dfd3c9"
   },
   "outputs": [],
   "source": [
    "X_train = df_exp.drop(['Survived','Title_Capt.','Title_Col.','Title_Lady.','Title_Major.','Title_Mlle.','Title_Ms.','Title_Sir.','Deck_T'],axis=1)\n",
    "y_train = df.Survived\n",
    "X_test = df_expTest"
   ]
  },
  {
   "cell_type": "code",
   "execution_count": null,
   "metadata": {
    "_uuid": "eb75006d7b6fbb870444fdb28ba4ab57d5d9b85b"
   },
   "outputs": [],
   "source": [
    "from sklearn.linear_model import LogisticRegression\n",
    "LogReg = LogisticRegression()\n",
    "LogReg.fit(X_train, y_train)\n",
    "LogRegRes = LogReg.predict(X_test)"
   ]
  },
  {
   "cell_type": "code",
   "execution_count": null,
   "metadata": {
    "_uuid": "512b27843bb21b7c8e85b05b4ceb71770ee4072d"
   },
   "outputs": [],
   "source": [
    "submissionEx = pd.read_csv('../input/gender_submission.csv')\n",
    "Id = submissionEx.PassengerId\n",
    "LogRegRes_Sub = pd.Series(LogRegRes, name='Survived')\n",
    "victory = pd.concat([Id,LogRegRes_Sub],axis=1)"
   ]
  },
  {
   "cell_type": "code",
   "execution_count": null,
   "metadata": {
    "_uuid": "36b2dd493ee0137f039fe05e2185a148b265bf06"
   },
   "outputs": [],
   "source": [
    "victory.to_csv('mysubmission.csv',index=False)"
   ]
  },
  {
   "cell_type": "code",
   "execution_count": null,
   "metadata": {
    "_uuid": "fcfa366281d6b0333a2830ab63fe0a7dd010b9ff"
   },
   "outputs": [],
   "source": [
    "print('Score:',LogReg.score(X_train, y_train))\n",
    "from sklearn.metrics import classification_report\n",
    "print(classification_report(y_train, LogReg.predict(X_train)))"
   ]
  },
  {
   "cell_type": "code",
   "execution_count": null,
   "metadata": {
    "_uuid": "4fe03523dbc7effcdf2f96da2c46fe4642aaba6b"
   },
   "outputs": [],
   "source": [
    "from sklearn.model_selection import train_test_split\n",
    "X_trainCV, x_testCV, Y_trainCV, y_testCV = train_test_split(X_train, y_train, train_size=0.7)\n",
    "LogRegCV = LogisticRegression()\n",
    "LogRegCV.fit(X_trainCV, Y_trainCV)\n",
    "LogRegResCV = LogRegCV.predict(x_testCV)\n",
    "\n",
    "print('Score:',LogRegCV.score(X_trainCV, Y_trainCV))\n",
    "print(classification_report(y_testCV, LogRegResCV))"
   ]
  },
  {
   "cell_type": "code",
   "execution_count": null,
   "metadata": {
    "_uuid": "11c78bf2a785a803e37017eaf34f03210702bd54"
   },
   "outputs": [],
   "source": [
    "from sklearn.preprocessing import StandardScaler\n",
    "sc = StandardScaler()\n",
    "X_trainCV_std = sc.fit_transform(X_trainCV)\n",
    "x_testCV_std = sc.fit_transform(x_testCV)\n",
    "\n",
    "LogRegCV2 = LogisticRegression()\n",
    "LogRegCV2.fit(X_trainCV_std, Y_trainCV)\n",
    "LogRegResCV2 = LogRegCV2.predict(x_testCV_std)\n",
    "\n",
    "print('Score:',LogRegCV2.score(X_trainCV_std, Y_trainCV))\n",
    "print(classification_report(y_testCV, LogRegResCV2))"
   ]
  },
  {
   "cell_type": "code",
   "execution_count": null,
   "metadata": {
    "_uuid": "ce504c99ebed9607c919fe690f4ac491d5341355"
   },
   "outputs": [],
   "source": [
    "from sklearn.metrics import accuracy_score\n",
    "\n",
    "C_range = [0.001, 0.01, 0.1, 1, 10, 100]\n",
    "\n",
    "acc_table = pd.DataFrame(columns=['C','Acc'])\n",
    "acc_table['C'] = C_range\n",
    "\n",
    "j=0\n",
    "for i in C_range:\n",
    "    lr = LogisticRegression(C = i, random_state = 0)\n",
    "    lr.fit(X_trainCV_std, Y_trainCV)\n",
    "    y_pred = lr.predict(x_testCV_std)\n",
    "    acc_table.iloc[j,1]=accuracy_score(y_pred, y_testCV)\n",
    "    j+=1\n",
    "    \n",
    "acc_table\n",
    "\n",
    "acc_table.plot(kind='bar', x='C', y='Acc')\n"
   ]
  },
  {
   "cell_type": "code",
   "execution_count": null,
   "metadata": {
    "_uuid": "bedb5efe74aa3837b920d67e9797a7d15ac0448b"
   },
   "outputs": [],
   "source": []
  },
  {
   "cell_type": "code",
   "execution_count": null,
   "metadata": {
    "_uuid": "f5a60d493d7140f7a6feadfae62cd74526085ee6"
   },
   "outputs": [],
   "source": []
  },
  {
   "cell_type": "code",
   "execution_count": null,
   "metadata": {
    "_uuid": "1e9071df8fbe018d422620e8dcdd75b0d2fbdad8"
   },
   "outputs": [],
   "source": []
  },
  {
   "cell_type": "code",
   "execution_count": null,
   "metadata": {
    "_uuid": "424baa1382cb68333e17e14287be5dbc4b1a61d1"
   },
   "outputs": [],
   "source": []
  }
 ],
 "metadata": {
  "kernelspec": {
   "display_name": "Python 3",
   "language": "python",
   "name": "python3"
  },
  "language_info": {
   "codemirror_mode": {
    "name": "ipython",
    "version": 3
   },
   "file_extension": ".py",
   "mimetype": "text/x-python",
   "name": "python",
   "nbconvert_exporter": "python",
   "pygments_lexer": "ipython3",
   "version": "3.6.5"
  }
 },
 "nbformat": 4,
 "nbformat_minor": 1
}
