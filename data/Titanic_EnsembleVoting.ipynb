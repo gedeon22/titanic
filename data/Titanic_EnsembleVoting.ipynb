{
 "cells": [
  {
   "cell_type": "code",
   "execution_count": 1,
   "metadata": {},
   "outputs": [],
   "source": [
    "import numpy as np\n",
    "import pandas as pd\n",
    "import matplotlib.pyplot as plt\n",
    "import seaborn as sns"
   ]
  },
  {
   "cell_type": "code",
   "execution_count": 17,
   "metadata": {},
   "outputs": [],
   "source": [
    "dTrain = pd.read_csv('Titanic_training_set.csv')\n",
    "dTrain.drop(dTrain.columns[0],axis=1,inplace=True)\n",
    "dTest = pd.read_csv('Titanic_test_set.csv')\n",
    "dTest.drop(dTest.columns[0],axis=1,inplace=True)\n",
    "\n",
    "X = dTrain.drop(['Survived','Title_Lady.','Title_Major.','Title_Mlle.','Title_Ms.','Title_Sir.','Deck_T','Title_Capt.','Title_Col.'], axis=1)\n",
    "y = dTrain['Survived']\n",
    "X_test = dTest"
   ]
  },
  {
   "cell_type": "code",
   "execution_count": 21,
   "metadata": {},
   "outputs": [],
   "source": [
    "#Split set into train and CV sets\n",
    "from sklearn.model_selection import train_test_split\n",
    "\n",
    "X_train, X_CV, y_train, y_CV = train_test_split(X, y, test_size=0.2)"
   ]
  },
  {
   "cell_type": "code",
   "execution_count": 34,
   "metadata": {},
   "outputs": [],
   "source": [
    "#Loosely select top features\n",
    "from sklearn.feature_selection import f_classif, SelectKBest\n",
    "\n",
    "selector = SelectKBest(score_func=f_classif, k=10)\n",
    "selector.fit(X_train, y_train)\n",
    "mask = selector.get_support(indices=True)\n",
    "cols = X_train.columns[mask]\n",
    "X_train_reduced = X_train[cols]\n",
    "\n",
    "#Adjust X_CV and X_Test accordingly\n",
    "X_CV_reduced = X_CV[cols]\n",
    "X_test_reduced = X_test[cols]"
   ]
  },
  {
   "cell_type": "code",
   "execution_count": 61,
   "metadata": {},
   "outputs": [
    {
     "data": {
      "text/plain": [
       "<matplotlib.axes._subplots.AxesSubplot at 0x7fb28ad66e80>"
      ]
     },
     "execution_count": 61,
     "metadata": {},
     "output_type": "execute_result"
    },
    {
     "data": {
      "image/png": "[encoded data removed]",
      "text/plain": [
       "<Figure size 432x288 with 1 Axes>"
      ]
     },
     "metadata": {},
     "output_type": "display_data"
    }
   ],
   "source": [
    "#Identify best classification algorithms with standard hyperparameters\n",
    "from sklearn.linear_model import LogisticRegression\n",
    "from sklearn.ensemble import RandomForestClassifier\n",
    "from sklearn.svm import SVC\n",
    "from sklearn.naive_bayes import GaussianNB\n",
    "from sklearn.neighbors import KNeighborsClassifier\n",
    "from sklearn.metrics import accuracy_score\n",
    "\n",
    "algs_name = ['lr','RanFor','svc','NB','knn']\n",
    "algs = [LogisticRegression(), RandomForestClassifier(), SVC(), GaussianNB(),KNeighborsClassifier()]\n",
    "acc_table = pd.DataFrame(index = algs_name, columns = ['Accuracy'])\n",
    "\n",
    "j=0 #iterator\n",
    "for c in algs:\n",
    "    c.fit(X_train_reduced, y_train)\n",
    "    y_pred = c.predict(X_CV_reduced)\n",
    "    acc_table.iloc[j,0] = accuracy_score(y_CV, y_pred)\n",
    "    j+=1\n",
    "    \n",
    "acc_table.sort_values(by='Accuracy').plot(kind='barh', xlim=(0,1))"
   ]
  },
  {
   "cell_type": "code",
   "execution_count": 68,
   "metadata": {},
   "outputs": [
    {
     "name": "stdout",
     "output_type": "stream",
     "text": [
      "{'algorithm': 'auto', 'leaf_size': 3, 'n_neighbors': 5}\n",
      "{'criterion': 'gini', 'max_features': 'auto', 'n_estimators': 500}\n",
      "{'C': 1, 'max_iter': 100, 'penalty': 'l1'}\n"
     ]
    }
   ],
   "source": [
    "#Identify best parameters with Grid Search on top 3 algs\n",
    "from sklearn.preprocessing import StandardScaler\n",
    "from sklearn.model_selection import GridSearchCV\n",
    "\n",
    "knn = KNeighborsClassifier()\n",
    "knn_param = {'n_neighbors':[5,10,20,30,40],\n",
    "            'leaf_size':[1,3,5],\n",
    "            'algorithm':['auto','kd_tree']}\n",
    "\n",
    "knn_grid = GridSearchCV(knn, param_grid=knn_param, cv=3)\n",
    "knn_grid.fit(X_train_reduced, y_train)\n",
    "print(knn_grid.best_params_)\n",
    "\n",
    "RanFor = RandomForestClassifier()\n",
    "RanFor_param = {'n_estimators':[100,300,500],\n",
    "            'max_features':['auto','sqrt'],\n",
    "            'criterion':['gini','entropy']}\n",
    "\n",
    "RanFor_grid = GridSearchCV(RanFor, param_grid=RanFor_param, cv=3)\n",
    "RanFor_grid.fit(X_train_reduced, y_train)\n",
    "print(RanFor_grid.best_params_)\n",
    "\n",
    "lr = LogisticRegression()\n",
    "lr_param = {'C':[0.01,0.1,1,10,100],\n",
    "            'max_iter':[100,200],\n",
    "            'penalty':['l1','l2']}\n",
    "\n",
    "lr_grid = GridSearchCV(lr, param_grid=lr_param, cv=3)\n",
    "lr_grid.fit(X_train_reduced, y_train)\n",
    "print(lr_grid.best_params_)"
   ]
  },
  {
   "cell_type": "code",
   "execution_count": 74,
   "metadata": {},
   "outputs": [
    {
     "name": "stdout",
     "output_type": "stream",
     "text": [
      "Accuracy: 0.776536312849162\n"
     ]
    },
    {
     "name": "stderr",
     "output_type": "stream",
     "text": [
      "/home/seb/anaconda3/lib/python3.6/site-packages/sklearn/preprocessing/label.py:151: DeprecationWarning: The truth value of an empty array is ambiguous. Returning False, but in future this will result in an error. Use `array.size > 0` to check that an array is not empty.\n",
      "  if diff:\n"
     ]
    }
   ],
   "source": [
    "#Do soft voting for best algorithm among top 3 algs\n",
    "from sklearn.ensemble import VotingClassifier\n",
    "\n",
    "clf1 = KNeighborsClassifier(**knn_grid.best_params_)\n",
    "clf2 = RandomForestClassifier(**RanFor_grid.best_params_)\n",
    "clf3 = LogisticRegression(**lr_grid.best_params_)\n",
    "\n",
    "eclf = VotingClassifier(estimators=[('knn',clf1),('RanFor',clf2),('lr',clf3)],\n",
    "                        voting='soft')\n",
    "eclf.fit(X_train_reduced, y_train)\n",
    "y_pred_eclf = eclf.predict(X_CV_reduced)\n",
    "print('Accuracy:', accuracy_score(y_CV, y_pred))\n"
   ]
  },
  {
   "cell_type": "code",
   "execution_count": 76,
   "metadata": {},
   "outputs": [
    {
     "name": "stderr",
     "output_type": "stream",
     "text": [
      "/home/seb/anaconda3/lib/python3.6/site-packages/sklearn/preprocessing/label.py:151: DeprecationWarning: The truth value of an empty array is ambiguous. Returning False, but in future this will result in an error. Use `array.size > 0` to check that an array is not empty.\n",
      "  if diff:\n"
     ]
    },
    {
     "data": {
      "text/plain": [
       "<matplotlib.axes._subplots.AxesSubplot at 0x7fb28ada9ba8>"
      ]
     },
     "execution_count": 76,
     "metadata": {},
     "output_type": "execute_result"
    },
    {
     "data": {
      "image/png": "[encoded data removed]",
      "text/plain": [
       "<Figure size 432x288 with 1 Axes>"
      ]
     },
     "metadata": {},
     "output_type": "display_data"
    }
   ],
   "source": [
    "#Sum it all\n",
    "\n",
    "acc_table2 = pd.DataFrame(index = ['KNN','RandomForest','LogReg','Ensemble'], columns = ['Accuracy'])\n",
    "clf_table = [clf1, clf2, clf3, eclf]\n",
    "\n",
    "j=0 #iterator\n",
    "for c in clf_table:\n",
    "    c.fit(X_train_reduced, y_train)\n",
    "    y_pred = c.predict(X_CV_reduced)\n",
    "    acc_table2.iloc[j,0] = accuracy_score(y_CV, y_pred)\n",
    "    j+=1\n",
    "    \n",
    "acc_table2.sort_values(by='Accuracy').plot(kind='barh', xlim=(0,1))"
   ]
  },
  {
   "cell_type": "code",
   "execution_count": 86,
   "metadata": {},
   "outputs": [
    {
     "name": "stderr",
     "output_type": "stream",
     "text": [
      "/home/seb/anaconda3/lib/python3.6/site-packages/sklearn/preprocessing/label.py:151: DeprecationWarning: The truth value of an empty array is ambiguous. Returning False, but in future this will result in an error. Use `array.size > 0` to check that an array is not empty.\n",
      "  if diff:\n"
     ]
    }
   ],
   "source": [
    "#Submission\n",
    "\n",
    "dSub = pd.read_csv('test.csv')\n",
    "\n",
    "submission = pd.DataFrame(columns=['PassengerId','Survived'])\n",
    "submission['PassengerId']=dSub['PassengerId']\n",
    "submission['Survived']=eclf.predict(X_test_reduced)\n",
    "\n",
    "submission.to_csv('submission4.csv',index=False)"
   ]
  },
  {
   "cell_type": "code",
   "execution_count": null,
   "metadata": {},
   "outputs": [],
   "source": []
  },
  {
   "cell_type": "code",
   "execution_count": null,
   "metadata": {},
   "outputs": [],
   "source": []
  },
  {
   "cell_type": "code",
   "execution_count": null,
   "metadata": {},
   "outputs": [],
   "source": []
  }
 ],
 "metadata": {
  "kernelspec": {
   "display_name": "Python 3",
   "language": "python",
   "name": "python3"
  },
  "language_info": {
   "codemirror_mode": {
    "name": "ipython",
    "version": 3
   },
   "file_extension": ".py",
   "mimetype": "text/x-python",
   "name": "python",
   "nbconvert_exporter": "python",
   "pygments_lexer": "ipython3",
   "version": "3.6.5"
  }
 },
 "nbformat": 4,
 "nbformat_minor": 2
}
