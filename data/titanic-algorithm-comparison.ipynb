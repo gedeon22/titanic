{
 "cells": [
  {
   "cell_type": "code",
   "execution_count": 1,
   "metadata": {
    "_cell_guid": "b1076dfc-b9ad-4769-8c92-a6c4dae69d19",
    "_uuid": "8f2839f25d086af736a60e9eeb907d3b93b6e0e5"
   },
   "outputs": [],
   "source": [
    "import numpy as np # linear algebra\n",
    "import pandas as pd # data processing, CSV file I/O (e.g. pd.read_csv)\n",
    "import matplotlib as mpl\n",
    "import matplotlib.pyplot as plt\n",
    "import seaborn as sns\n",
    "\n",
    "from sklearn.model_selection import train_test_split\n",
    "from sklearn.metrics import f1_score, accuracy_score\n",
    "from sklearn.preprocessing import MinMaxScaler\n",
    "from sklearn.linear_model import LogisticRegression\n",
    "from sklearn.svm import SVC\n",
    "from sklearn.neighbors import KNeighborsClassifier\n",
    "from sklearn.ensemble import RandomForestClassifier\n",
    "from sklearn.naive_bayes import GaussianNB\n",
    "\n",
    "# Input data files are available in the \"../input/\" directory.\n",
    "# For example, running this (by clicking run or pressing Shift+Enter) will list the files in the input directory\n",
    "\n",
    "#import os\n",
    "#print(os.listdir(\"../input\"))"
   ]
  },
  {
   "cell_type": "code",
   "execution_count": 2,
   "metadata": {
    "_cell_guid": "79c7e3d0-c299-4dcb-8224-4455121ee9b0",
    "_uuid": "d629ff2d2480ee46fbb7e2d37f6b5fab8052498a"
   },
   "outputs": [],
   "source": [
    "dTrain = pd.read_csv('train.csv')\n",
    "dTest = pd.read_csv('test.csv')"
   ]
  },
  {
   "cell_type": "code",
   "execution_count": 3,
   "metadata": {
    "_uuid": "d3653c565b638cebb9b8b120a9367f3cc8de6c83"
   },
   "outputs": [],
   "source": [
    "def process_dataset(df):\n",
    "    #Fill NA & change 'Sex' into binary variables\n",
    "    df['Sex'] = df['Sex'].map({'male':0,'female':1})\n",
    "    df['Age'].fillna(df['Age'].median(), inplace=True)\n",
    "    df['Fare'].fillna(df['Fare'].median(), inplace=True)\n",
    "    df['Embarked'].fillna('S', inplace=True)\n",
    "    \n",
    "    #Get dummies for Pclass\n",
    "    Pclass = pd.get_dummies(df['Pclass'],prefix='Class')\n",
    "    df = df.join(Pclass)\n",
    "    \n",
    "    #Get dummies for Embarked\n",
    "    Emb = pd.get_dummies(df['Embarked'],prefix='Embarked')\n",
    "    df = df.join(Emb)\n",
    "    \n",
    "    #Turn 'Name' and 'Cabin' into dummies\n",
    "    Name = df['Name'].str.split(' ', expand=True)[1]\n",
    "    Title = pd.get_dummies(Name,prefix='Title')\n",
    "    df = df.join(Title[['Title_Mr.', 'Title_Mrs.']])\n",
    "        \n",
    "    Cabin = df['Cabin'].str[0]\n",
    "    Cab = pd.get_dummies(Cabin,prefix='Deck')\n",
    "    df = df.join(Cab)\n",
    "     \n",
    "    #Drop unnecessary columns\n",
    "    df.drop(['Ticket', 'Pclass','PassengerId','Embarked_S', 'Embarked', 'Name', 'Cabin'], axis=1, inplace=True)\n",
    "        \n",
    "    return df"
   ]
  },
  {
   "cell_type": "code",
   "execution_count": 8,
   "metadata": {
    "_uuid": "c17fdc94096abfe4a1de177bfed3913b957b9f14"
   },
   "outputs": [],
   "source": [
    "dTrain_edit0 = process_dataset(dTrain)\n",
    "dTest_edit0 = process_dataset(dTest)\n",
    "\n",
    "dTrain_edit = dTrain_edit0[['Fare','Title_Mr.','Title_Mrs.','Class_1','Class_3']]\n",
    "dTest_edit = dTest_edit0[['Fare','Title_Mr.','Title_Mrs.','Class_1','Class_3']]\n",
    "\n",
    "dTest_edit = process_dataset(dTest)\n",
    "\n",
    "\n",
    "#Cross-validation purpose\n",
    "#X = dTrain_edit.drop(['Survived','Deck_T'], axis=1)\n",
    "X = dTrain_edit\n",
    "y = dTrain_edit0['Survived']\n",
    "X_train, X_test, y_train, y_test = train_test_split(X, y, test_size=0.3)\n",
    "\n",
    "scaler = MinMaxScaler()\n",
    "X_train_std, X_test_std = scaler.fit_transform(X_train), scaler.fit_transform(X_test)"
   ]
  },
  {
   "cell_type": "code",
   "execution_count": 9,
   "metadata": {},
   "outputs": [
    {
     "data": {
      "text/plain": [
       "Class_3       0.413333\n",
       "Title_Mr.     0.175151\n",
       "Title_Mrs.    0.104036\n",
       "Name: Fare, dtype: float64"
      ]
     },
     "execution_count": 9,
     "metadata": {},
     "output_type": "execute_result"
    }
   ],
   "source": [
    "#Identify top 5 features\n",
    "Corr = dTrain_edit.corr()\n",
    "Corr_sorted = Corr.iloc[:,0].abs().sort_values(ascending=False)\n",
    "Corr_sorted[2:7]\n",
    "\n",
    "#sns.heatmap"
   ]
  },
  {
   "cell_type": "code",
   "execution_count": 11,
   "metadata": {
    "_uuid": "2da246ca4cbf4e2b80115c47dd063d7faaacebff"
   },
   "outputs": [],
   "source": [
    "#Model test\n",
    "def run_alg(alg):\n",
    "    alg.fit(X_train_std, y_train)\n",
    "    y_pred = alg.predict(X_test_std)\n",
    "    acc, f1 = accuracy_score(y_test, y_pred), f1_score(y_test, y_pred)\n",
    "    return acc, f1"
   ]
  },
  {
   "cell_type": "code",
   "execution_count": 12,
   "metadata": {
    "_uuid": "80ff52575b52a7fdc1e04fee45431f43a325048b"
   },
   "outputs": [
    {
     "data": {
      "text/plain": [
       "<matplotlib.axes._subplots.AxesSubplot at 0x7fae410107b8>"
      ]
     },
     "execution_count": 12,
     "metadata": {},
     "output_type": "execute_result"
    },
    {
     "data": {
      "image/png": "[encoded data removed]",
      "text/plain": [
       "<Figure size 432x288 with 1 Axes>"
      ]
     },
     "metadata": {},
     "output_type": "display_data"
    }
   ],
   "source": [
    "algs = [LogisticRegression(solver='lbfgs'),SVC(gamma='auto'),KNeighborsClassifier(), RandomForestClassifier(n_estimators=100), GaussianNB()]\n",
    "algs_name = ['LogReg', 'SVC', 'KNearestNeighbors','RandomForest','GaussianNB']\n",
    "result_table = pd.DataFrame(index = algs_name, columns=['Accuracy','F1 Score'])\n",
    "\n",
    "j=0 #iterator\n",
    "for alg in algs:\n",
    "    acc, f1 = run_alg(alg)\n",
    "    result_table.iloc[j,0] = acc\n",
    "    result_table.iloc[j,1] = f1\n",
    "    j+=1\n",
    "    \n",
    "result_table.plot(kind='barh', xlim=(0,1))"
   ]
  },
  {
   "cell_type": "code",
   "execution_count": 13,
   "metadata": {
    "_uuid": "e8189f17d1e0e51994ba0e436f0d770551faa1ac"
   },
   "outputs": [
    {
     "name": "stdout",
     "output_type": "stream",
     "text": [
      "Max value is: Accuracy    0.820896\n",
      "F1 Score    0.761905\n",
      "dtype: float64  for n= 23\n"
     ]
    },
    {
     "data": {
      "image/png": "[encoded data removed]",
      "text/plain": [
       "<Figure size 432x288 with 1 Axes>"
      ]
     },
     "metadata": {},
     "output_type": "display_data"
    }
   ],
   "source": [
    "#Deep-dive in KNN\n",
    "knn_result_table = pd.DataFrame(index=range(100), columns=['Accuracy','F1 Score'])\n",
    "\n",
    "j=0 #iterator\n",
    "for n in range(1,101):\n",
    "    knn = KNeighborsClassifier(n_neighbors=n)\n",
    "    acc, f1 = run_alg(knn)\n",
    "    knn_result_table.iloc[j,0] = acc\n",
    "    knn_result_table.iloc[j,1] = f1\n",
    "    j+=1\n",
    "    \n",
    "knn_result_table.plot(kind='line', ylim=(0,1))\n",
    "print('Max value is:', knn_result_table.max(), ' for n=', knn_result_table['Accuracy'].astype(float).idxmax(skipna=True))"
   ]
  },
  {
   "cell_type": "code",
   "execution_count": null,
   "metadata": {
    "_uuid": "56bdc93e9e4c57fb98ba7f3ebbc2dde361ded0cf"
   },
   "outputs": [],
   "source": [
    "#Prepare for submission\n",
    "#X_test = dTest_edit\n",
    "#X_std, X_test_std = scaler.fit_transform(X), scaler.fit_transform(X_test)\n",
    "\n",
    "#knn = KNeighborsClassifier(n_neighbors=6)\n",
    "#knn.fit(X_std, y)\n",
    "#result_sub = knn.predict(X_test_std)\n",
    "#submission = pd.DataFrame(columns = ['PassengerId', 'Survived'])\n",
    "#submission.PassengerId = dTest.PassengerId\n",
    "#submission.Survived = result_sub\n",
    "\n",
    "#submission.head()"
   ]
  },
  {
   "cell_type": "code",
   "execution_count": null,
   "metadata": {
    "_uuid": "34f1a804c4a129c22ed815684f69cbfb92c5d387"
   },
   "outputs": [],
   "source": [
    "#submission.to_csv('submission2.csv',index=False)"
   ]
  },
  {
   "cell_type": "code",
   "execution_count": 14,
   "metadata": {
    "_uuid": "d38bc829f4e3063a7f8334198dc5eb87ab2fa3b8"
   },
   "outputs": [
    {
     "name": "stdout",
     "output_type": "stream",
     "text": [
      "Max value is: Accuracy    0.794776\n",
      "F1 Score    0.715026\n",
      "dtype: float64  for C= 0.1\n"
     ]
    },
    {
     "data": {
      "image/png": "[encoded data removed]",
      "text/plain": [
       "<Figure size 432x288 with 1 Axes>"
      ]
     },
     "metadata": {},
     "output_type": "display_data"
    }
   ],
   "source": [
    "#Deep-dive in Logistics Regression\n",
    "C = [0.01, 0.1, 1, 10, 100]\n",
    "LogReg_result_table = pd.DataFrame(index=C, columns=['Accuracy', 'F1 Score'])\n",
    "\n",
    "j=0 #iterator\n",
    "for c in C:\n",
    "    LogReg = LogisticRegression(C=c)\n",
    "    acc, f1 = run_alg(LogReg)\n",
    "    LogReg_result_table.iloc[j,0] = acc\n",
    "    LogReg_result_table.iloc[j,1] = f1\n",
    "    j+=1\n",
    "    \n",
    "LogReg_result_table.plot(kind='barh', xlim=(0,1))\n",
    "print('Max value is:', LogReg_result_table.max(), ' for C=', LogReg_result_table['Accuracy'].astype(float).idxmax(skipna=True))"
   ]
  },
  {
   "cell_type": "code",
   "execution_count": null,
   "metadata": {
    "_uuid": "d1d3355d61b95464b21425523cb0dbf5641433b7"
   },
   "outputs": [],
   "source": []
  },
  {
   "cell_type": "code",
   "execution_count": 22,
   "metadata": {},
   "outputs": [
    {
     "data": {
      "text/plain": [
       "Sex           0\n",
       "Age           0\n",
       "SibSp         0\n",
       "Parch         0\n",
       "Fare          0\n",
       "Class_1       0\n",
       "Class_2       0\n",
       "Class_3       0\n",
       "Embarked_C    0\n",
       "Embarked_Q    0\n",
       "Title_Mr.     0\n",
       "Title_Mrs.    0\n",
       "Deck_A        0\n",
       "Deck_B        0\n",
       "Deck_C        0\n",
       "Deck_D        0\n",
       "Deck_E        0\n",
       "Deck_F        0\n",
       "Deck_G        0\n",
       "dtype: int64"
      ]
     },
     "execution_count": 22,
     "metadata": {},
     "output_type": "execute_result"
    }
   ],
   "source": []
  },
  {
   "cell_type": "code",
   "execution_count": null,
   "metadata": {},
   "outputs": [],
   "source": []
  }
 ],
 "metadata": {
  "kernelspec": {
   "display_name": "Python 3",
   "language": "python",
   "name": "python3"
  },
  "language_info": {
   "codemirror_mode": {
    "name": "ipython",
    "version": 3
   },
   "file_extension": ".py",
   "mimetype": "text/x-python",
   "name": "python",
   "nbconvert_exporter": "python",
   "pygments_lexer": "ipython3",
   "version": "3.6.5"
  }
 },
 "nbformat": 4,
 "nbformat_minor": 1
}
